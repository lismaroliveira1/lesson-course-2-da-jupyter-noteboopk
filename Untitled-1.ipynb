{
 "cells": [
  {
   "cell_type": "markdown",
   "metadata": {},
   "source": [
    "# Data Science Libraries Tools amd Languages"
   ]
  },
  {
   "cell_type": "markdown",
   "metadata": {},
   "source": [
    "## This work introduces the concepts about the main tools, libraries and languages used for data science"
   ]
  },
  {
   "cell_type": "markdown",
   "metadata": {},
   "source": [
    "### Data Science Languages\n",
    "\n",
    "1. Python\n",
    "2. R\n",
    "3. SQL\n",
    "4. Java\n",
    "5. Julia\n",
    "6. Scala\n",
    "7. C/C++\n",
    "8. JavaScript\n",
    "9. Swift\n",
    "10. Go\n",
    "11. MATLAB\n",
    "12. SAS\n",
    "13. Ruby\n",
    "14. Visual Basic"
   ]
  },
  {
   "cell_type": "markdown",
   "metadata": {},
   "source": [
    "### Data Science Libraries\n",
    "\n",
    "For Python: \n",
    "1. NumPy\n",
    "2. Pandas\n",
    "3. Matplotlib\n",
    "4. Seaborn,\n",
    "5. Scikit-Learn\n",
    "6. Keras\n",
    "7. Plotly\n",
    "8. TensorFlow\n",
    "9. PyTorch\n",
    "10. Vegas\n",
    "11. Big DL\n",
    "12. Ggplot2\n"
   ]
  },
  {
   "cell_type": "markdown",
   "metadata": {},
   "source": [
    "### Data Science Tools\n",
    "\n",
    "1. Anaconda\n",
    "2. Apache Spark\n",
    "3. RStudio\n",
    "4. Spyder\n",
    "5. Zeppelin\n",
    "6. BigML\n",
    "7. D3.js\n",
    "8. MATLAB\n",
    "10. Excel\n",
    "11. Tableau\n",
    "12. Jupyter Notebook\n",
    "13. Weka"
   ]
  },
  {
   "cell_type": "markdown",
   "metadata": {},
   "source": [
    "### Arithmetic Expression Examples\n",
    "\n",
    "* Sum -> A + B = C\n",
    "* subtraction -> A - B = C\n",
    "* multiplication -> A * B = C\n",
    "* division -> A / B = C"
   ]
  },
  {
   "cell_type": "markdown",
   "metadata": {},
   "source": [
    "### Multiply and Add Math Operations"
   ]
  },
  {
   "cell_type": "code",
   "execution_count": 13,
   "metadata": {},
   "outputs": [
    {
     "name": "stdout",
     "output_type": "stream",
     "text": [
      "sum: 2 + 6 = 8\n",
      "multiply: 2 * 6 = 12\n"
     ]
    }
   ],
   "source": [
    "a = 2\n",
    "b = 6\n",
    "#add\n",
    "c = a + b\n",
    "print('sum: {} + {} = {}'.format(a,b,c))\n",
    "#multiply \n",
    "c = a * b\n",
    "print('multiply: {} * {} = {}'.format(a,b,c))"
   ]
  },
  {
   "cell_type": "markdown",
   "metadata": {},
   "source": [
    "### Minutes to Hour Conversion"
   ]
  },
  {
   "cell_type": "code",
   "execution_count": 14,
   "metadata": {},
   "outputs": [
    {
     "name": "stdout",
     "output_type": "stream",
     "text": [
      "2.0\n"
     ]
    }
   ],
   "source": [
    "minute = 120\n",
    "hour = minute/60\n",
    "print('hour {}')"
   ]
  },
  {
   "cell_type": "markdown",
   "metadata": {},
   "source": [
    "### Objectives\n",
    " * Add Comments to Code\n",
    " * Create markdown cells\n",
    " * Create ordered and unordered list to markdown cells\n",
    " * Format content markdown cells with heading styles"
   ]
  },
  {
   "cell_type": "markdown",
   "metadata": {},
   "source": [
    "#### Author's name: Lismar Oliveira"
   ]
  }
 ],
 "metadata": {
  "kernelspec": {
   "display_name": "base",
   "language": "python",
   "name": "python3"
  },
  "language_info": {
   "codemirror_mode": {
    "name": "ipython",
    "version": 3
   },
   "file_extension": ".py",
   "mimetype": "text/x-python",
   "name": "python",
   "nbconvert_exporter": "python",
   "pygments_lexer": "ipython3",
   "version": "3.11.6"
  },
  "orig_nbformat": 4
 },
 "nbformat": 4,
 "nbformat_minor": 2
}
